{
 "cells": [
  {
   "cell_type": "code",
   "execution_count": 1,
   "metadata": {},
   "outputs": [],
   "source": [
    "# STEP 0: Must be done before anything each time notebook is loaded\n",
    "# Import PySplit\n",
    "import pysplit as py\n",
    "import numpy as np\n",
    "import pickle as pickle\n",
    "from pprint import pprint\n",
    "import os"
   ]
  },
  {
   "cell_type": "code",
   "execution_count": 3,
   "metadata": {},
   "outputs": [],
   "source": [
    "def calculate_integrationerr(self):\n",
    "        \"\"\"\n",
    "        Estimate integration error.\n",
    "        Absolute integration error (``self.integration_error_abs``)\n",
    "        is half the loop closure distance, which is the distance between\n",
    "        ``Trajectory`` (``self``) origin and reverse trajectory endpoint.\n",
    "        Relative integration error is the loop closure distance divided by the\n",
    "        total distance traveled by reverse and original trajectories, divided\n",
    "        by 2 and reported as a percentage.\n",
    "        \"\"\"\n",
    "        if not hasattr(self, 'rtraj_ok'):\n",
    "            raise AttributeError('Reverse trajectory must be loaded first!')\n",
    "\n",
    "        if self.rtraj_ok:\n",
    "\n",
    "            if self.data.get('Distance_ptp') is None:\n",
    "                self.calculate_distance()\n",
    "\n",
    "            site_distance = self.distance_between2pts(self.path.coords[0],\n",
    "                                                      self.path_r.coords[-1],\n",
    "                                                      in_xy=True)\n",
    "\n",
    "            travel_distance = self.data.loc[:, ['Cumulative_Dist',\n",
    "                'Cumulative_Dist_r']].iloc[-1].sum()\n",
    "\n",
    "            self.integration_error = ((site_distance / travel_distance) *\n",
    "                                      100) / 2\n",
    "            self.integration_error_abs = site_distance / 2\n",
    "            \n",
    "            \n",
    "            "
   ]
  },
  {
   "cell_type": "code",
   "execution_count": 6,
   "metadata": {},
   "outputs": [
    {
     "ename": "NameError",
     "evalue": "name 'tt' is not defined",
     "output_type": "error",
     "traceback": [
      "\u001b[0;31m---------------------------------------------------------------------------\u001b[0m",
      "\u001b[0;31mNameError\u001b[0m                                 Traceback (most recent call last)",
      "\u001b[0;32m<ipython-input-6-636f00a2ece6>\u001b[0m in \u001b[0;36m<module>\u001b[0;34m()\u001b[0m\n\u001b[0;32m----> 1\u001b[0;31m \u001b[0;34m-\u001b[0m\u001b[0mtt\u001b[0m \u001b[0;34m(\u001b[0m\u001b[0;34m'traj.py'\u001b[0m\u001b[0;34m)\u001b[0m\u001b[0;34m\u001b[0m\u001b[0m\n\u001b[0m",
      "\u001b[0;31mNameError\u001b[0m: name 'tt' is not defined"
     ]
    }
   ],
   "source": [
    " -tt ('traj.py')"
   ]
  },
  {
   "cell_type": "code",
   "execution_count": null,
   "metadata": {},
   "outputs": [],
   "source": []
  }
 ],
 "metadata": {
  "kernelspec": {
   "display_name": "Python (pysplitenv36)",
   "language": "python",
   "name": "pysplitenv36"
  },
  "language_info": {
   "codemirror_mode": {
    "name": "ipython",
    "version": 3
   },
   "file_extension": ".py",
   "mimetype": "text/x-python",
   "name": "python",
   "nbconvert_exporter": "python",
   "pygments_lexer": "ipython3",
   "version": "3.6.5"
  }
 },
 "nbformat": 4,
 "nbformat_minor": 2
}
