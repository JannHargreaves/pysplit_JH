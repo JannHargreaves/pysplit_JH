{
 "cells": [
  {
   "cell_type": "markdown",
   "metadata": {},
   "source": [
    "## Calculating the Trajectory Errors\n",
    "\n",
    "- how to calculate the trajectory errors and seperate the files into bad and good trajectories\n",
    "\n",
    "- Currently need to work out how to get python to show the integration errors between the forward and reverse trajectories"
   ]
  },
  {
   "cell_type": "code",
   "execution_count": 1,
   "metadata": {},
   "outputs": [],
   "source": [
    "# STEP 0: Must be done before anything each time notebook is loaded\n",
    "# Import PySplit\n",
    "\n",
    "import pysplit as py\n",
    "import numpy as np\n",
    "import pickle as pickle\n",
    "from pprint import pprint\n",
    "import os"
   ]
  },
  {
   "cell_type": "markdown",
   "metadata": {},
   "source": [
    "#### Trajectory generation\n",
    "- basic trajectory, test used for just this analysis"
   ]
  },
  {
   "cell_type": "code",
   "execution_count": 27,
   "metadata": {},
   "outputs": [],
   "source": [
    "# STEP 1: TRAJECTORY GENERATION (not yet tested on mac)\n",
    "# check out bulk_trajen_example.py\n",
    "\n",
    "#directory setup\n",
    "working_dir = r'/Volumes/Seagate_Backup/hysplit4/working'\n",
    "storage_dir = r'/Volumes/Seagate_Backup/hysplit4/pysplitgen/test'\n",
    "meteo_dir = r'/Volumes/Seagate_Backup/HYSPLIT/ncep_monYYYY'\n",
    "# meteo_dir = r'C:\\hysplit4\\gdas'\n",
    "\n",
    "#file basename\n",
    "basename = 'test'\n",
    "\n",
    "#Arguments\n",
    "years = [2007]\n",
    "#years=range(2006,2017)\n",
    "#months = [1, 13]\n",
    "months=range(1,13)\n",
    "hours = [4]\n",
    "altitudes = [1100]\n",
    "location = (-10.25, 105.4)\n",
    "runtime = -168\n",
    "\n",
    "#Generate trajs\n",
    "py.generate_bulktraj(basename, working_dir, storage_dir, meteo_dir,\n",
    "                          years, months, hours, altitudes, location, runtime,\n",
    "                          monthslice=slice(0, 32, 1), get_reverse=True, get_clipped=True, hysplit=\"/Volumes/Seagate_Backup/hysplit4/exec/hyts_std\")"
   ]
  },
  {
   "cell_type": "markdown",
   "metadata": {},
   "source": [
    "#### Grouping the trajectories\n",
    "\n",
    "- determine the distance between the start and end of trajectories, the vector \n",
    "- can seperate the rainy status ones (based in Summer values)"
   ]
  },
  {
   "cell_type": "code",
   "execution_count": 33,
   "metadata": {},
   "outputs": [],
   "source": [
    "# STEP 2: INITIALISE TRAJECTORY GROUP\n",
    "# Group trajectories and then cycle through a group to determine distance, vector and rain status.\n",
    "# check out traj_trajgroup_basics_examle.py\n",
    "\n",
    "# Initialise Trajectories and Create a Trajectory Group\n",
    "test=[]\n",
    "test= py.make_trajectorygroup(r'/Volumes/Seagate_Backup/hysplit4/pysplitgen/test/*summer*')\n",
    "# Calculate distance and vectors\n",
    "for traj in test:\n",
    "    traj.calculate_distance()\n",
    "    traj.calculate_vector()"
   ]
  },
  {
   "cell_type": "code",
   "execution_count": 32,
   "metadata": {},
   "outputs": [
    {
     "name": "stdout",
     "output_type": "stream",
     "text": [
      "Total trajectroies in dry_test group: 44\n",
      "Total trajectroies in rainy_test group: 46\n",
      "Total trajectroies in group: 90\n"
     ]
    }
   ],
   "source": [
    "rainylist =[]\n",
    "\n",
    "for traj in test:\n",
    "    traj.set_rainstatus()\n",
    "    if traj.rainy:\n",
    "        rainylist.append(traj)\n",
    "        \n",
    "rainy_test=py.TrajectoryGroup(rainylist)\n",
    "\n",
    "dry_test= test - rainy_test\n",
    "print ('Total trajectroies in dry_test group:', dry_test.trajcount)\n",
    "print ('Total trajectroies in rainy_test group:', rainy_test.trajcount)\n",
    "print ('Total trajectroies in group:', test.trajcount)"
   ]
  },
  {
   "cell_type": "markdown",
   "metadata": {},
   "source": [
    "#### Calculating the integration error\n",
    "\n",
    "- first the reversetraj has to be loaded, this is because the integration error is the physical and numerical error. This is calculated by the distance between the original trajectory and the reverse trajectory start and end points. \n",
    "\n",
    "- then the integration error can be calculated by traj.calculate_integrationerr()\n",
    "\n",
    "    - this also should inclue te traj.integration_error (the relative error%) and traj.integration_error_abs (the absolute error in meters)"
   ]
  },
  {
   "cell_type": "code",
   "execution_count": 40,
   "metadata": {},
   "outputs": [
    {
     "name": "stdout",
     "output_type": "stream",
     "text": [
      "Trajectory /Volumes/Seagate_Backup/hysplit4/pysplitgen/test/testjan1100summer20070101041.0 has a bad reverse trajectory: \n",
      "\t\n",
      "                          168 hours instead of 4 hours\n",
      "Trajectory /Volumes/Seagate_Backup/hysplit4/pysplitgen/test/testjan1100summer20070102041.0 has a bad reverse trajectory: \n",
      "\t\n",
      "                          168 hours instead of 28 hours\n",
      "Trajectory /Volumes/Seagate_Backup/hysplit4/pysplitgen/test/testjan1100summer20070103041.0 has a bad reverse trajectory: \n",
      "\t\n",
      "                          168 hours instead of 52 hours\n",
      "Trajectory /Volumes/Seagate_Backup/hysplit4/pysplitgen/test/testjan1100summer20070104041.0 has a bad reverse trajectory: \n",
      "\t\n",
      "                          168 hours instead of 76 hours\n",
      "Trajectory /Volumes/Seagate_Backup/hysplit4/pysplitgen/test/testjan1100summer20070105041.0 has a bad reverse trajectory: \n",
      "\t\n",
      "                          168 hours instead of 100 hours\n",
      "Trajectory /Volumes/Seagate_Backup/hysplit4/pysplitgen/test/testjan1100summer20070106041.0 has a bad reverse trajectory: \n",
      "\t\n",
      "                          168 hours instead of 124 hours\n",
      "Trajectory /Volumes/Seagate_Backup/hysplit4/pysplitgen/test/testjan1100summer20070107041.0 has a bad reverse trajectory: \n",
      "\t\n",
      "                          168 hours instead of 148 hours\n",
      "Trajectory /Volumes/Seagate_Backup/hysplit4/pysplitgen/test/testfeb1100summer20070201041.0 has a bad reverse trajectory: \n",
      "\t\n",
      "                          168 hours instead of 4 hours\n",
      "Trajectory /Volumes/Seagate_Backup/hysplit4/pysplitgen/test/testfeb1100summer20070202041.0 has a bad reverse trajectory: \n",
      "\t\n",
      "                          168 hours instead of 28 hours\n",
      "Trajectory /Volumes/Seagate_Backup/hysplit4/pysplitgen/test/testfeb1100summer20070203041.0 has a bad reverse trajectory: \n",
      "\t\n",
      "                          168 hours instead of 52 hours\n",
      "Trajectory /Volumes/Seagate_Backup/hysplit4/pysplitgen/test/testfeb1100summer20070204041.0 has a bad reverse trajectory: \n",
      "\t\n",
      "                          168 hours instead of 76 hours\n",
      "Trajectory /Volumes/Seagate_Backup/hysplit4/pysplitgen/test/testfeb1100summer20070205041.0 has a bad reverse trajectory: \n",
      "\t\n",
      "                          168 hours instead of 100 hours\n",
      "Trajectory /Volumes/Seagate_Backup/hysplit4/pysplitgen/test/testfeb1100summer20070206041.0 has a bad reverse trajectory: \n",
      "\t\n",
      "                          168 hours instead of 124 hours\n",
      "Trajectory /Volumes/Seagate_Backup/hysplit4/pysplitgen/test/testfeb1100summer20070207041.0 has a bad reverse trajectory: \n",
      "\t\n",
      "                          168 hours instead of 148 hours\n",
      "Trajectory /Volumes/Seagate_Backup/hysplit4/pysplitgen/test/testdec1100summer20071201041.0 has a bad reverse trajectory: \n",
      "\t\n",
      "                          168 hours instead of 4 hours\n",
      "Trajectory /Volumes/Seagate_Backup/hysplit4/pysplitgen/test/testdec1100summer20071202041.0 has a bad reverse trajectory: \n",
      "\t\n",
      "                          168 hours instead of 28 hours\n",
      "Trajectory /Volumes/Seagate_Backup/hysplit4/pysplitgen/test/testdec1100summer20071203041.0 has a bad reverse trajectory: \n",
      "\t\n",
      "                          168 hours instead of 52 hours\n",
      "Trajectory /Volumes/Seagate_Backup/hysplit4/pysplitgen/test/testdec1100summer20071204041.0 has a bad reverse trajectory: \n",
      "\t\n",
      "                          168 hours instead of 76 hours\n",
      "Trajectory /Volumes/Seagate_Backup/hysplit4/pysplitgen/test/testdec1100summer20071205041.0 has a bad reverse trajectory: \n",
      "\t\n",
      "                          168 hours instead of 100 hours\n",
      "Trajectory /Volumes/Seagate_Backup/hysplit4/pysplitgen/test/testdec1100summer20071206041.0 has a bad reverse trajectory: \n",
      "\t\n",
      "                          168 hours instead of 124 hours\n",
      "Trajectory /Volumes/Seagate_Backup/hysplit4/pysplitgen/test/testdec1100summer20071207041.0 has a bad reverse trajectory: \n",
      "\t\n",
      "                          168 hours instead of 148 hours\n"
     ]
    }
   ],
   "source": [
    "# integration error filtering# integr \n",
    "#first load reverse Traj\n",
    "for traj in test:\n",
    "    traj.load_reversetraj()\n",
    "#then calculate integration error\n",
    "# Values computed when calling ``Trajectory.calculate_integrationerr()``:\n",
    "#     ``Trajectory.integration_error``, the relative error (%)\n",
    "#     ``Trajectory.integration_error_abs``, the absolute error (meters)\n"
   ]
  },
  {
   "cell_type": "code",
   "execution_count": 42,
   "metadata": {},
   "outputs": [
    {
     "name": "stdout",
     "output_type": "stream",
     "text": [
      "Integration error calculation skipped for\n",
      "                  Trajectory /Volumes/Seagate_Backup/hysplit4/pysplitgen/test/testjan1100summer20070101041.0\n",
      "0\n",
      "Integration error calculation skipped for\n",
      "                  Trajectory /Volumes/Seagate_Backup/hysplit4/pysplitgen/test/testjan1100summer20070102041.0\n",
      "1\n",
      "Integration error calculation skipped for\n",
      "                  Trajectory /Volumes/Seagate_Backup/hysplit4/pysplitgen/test/testjan1100summer20070103041.0\n",
      "2\n",
      "Integration error calculation skipped for\n",
      "                  Trajectory /Volumes/Seagate_Backup/hysplit4/pysplitgen/test/testjan1100summer20070104041.0\n",
      "3\n",
      "Integration error calculation skipped for\n",
      "                  Trajectory /Volumes/Seagate_Backup/hysplit4/pysplitgen/test/testjan1100summer20070105041.0\n",
      "4\n",
      "Integration error calculation skipped for\n",
      "                  Trajectory /Volumes/Seagate_Backup/hysplit4/pysplitgen/test/testjan1100summer20070106041.0\n",
      "5\n",
      "Integration error calculation skipped for\n",
      "                  Trajectory /Volumes/Seagate_Backup/hysplit4/pysplitgen/test/testjan1100summer20070107041.0\n",
      "6\n",
      "7\n",
      "8\n",
      "9\n",
      "10\n",
      "11\n",
      "12\n",
      "13\n",
      "14\n",
      "15\n",
      "16\n",
      "17\n",
      "18\n",
      "19\n",
      "20\n",
      "21\n",
      "22\n",
      "23\n",
      "24\n",
      "25\n",
      "26\n",
      "27\n",
      "28\n",
      "29\n",
      "30\n",
      "Integration error calculation skipped for\n",
      "                  Trajectory /Volumes/Seagate_Backup/hysplit4/pysplitgen/test/testfeb1100summer20070201041.0\n",
      "31\n",
      "Integration error calculation skipped for\n",
      "                  Trajectory /Volumes/Seagate_Backup/hysplit4/pysplitgen/test/testfeb1100summer20070202041.0\n",
      "32\n",
      "Integration error calculation skipped for\n",
      "                  Trajectory /Volumes/Seagate_Backup/hysplit4/pysplitgen/test/testfeb1100summer20070203041.0\n",
      "33\n",
      "Integration error calculation skipped for\n",
      "                  Trajectory /Volumes/Seagate_Backup/hysplit4/pysplitgen/test/testfeb1100summer20070204041.0\n",
      "34\n",
      "Integration error calculation skipped for\n",
      "                  Trajectory /Volumes/Seagate_Backup/hysplit4/pysplitgen/test/testfeb1100summer20070205041.0\n",
      "35\n",
      "Integration error calculation skipped for\n",
      "                  Trajectory /Volumes/Seagate_Backup/hysplit4/pysplitgen/test/testfeb1100summer20070206041.0\n",
      "36\n",
      "Integration error calculation skipped for\n",
      "                  Trajectory /Volumes/Seagate_Backup/hysplit4/pysplitgen/test/testfeb1100summer20070207041.0\n",
      "37\n",
      "38\n",
      "39\n",
      "40\n",
      "41\n",
      "42\n",
      "43\n",
      "44\n",
      "45\n",
      "46\n",
      "47\n",
      "48\n",
      "49\n",
      "50\n",
      "51\n",
      "52\n",
      "53\n",
      "54\n",
      "55\n",
      "56\n",
      "57\n",
      "58\n",
      "Integration error calculation skipped for\n",
      "                  Trajectory /Volumes/Seagate_Backup/hysplit4/pysplitgen/test/testdec1100summer20071201041.0\n",
      "59\n",
      "Integration error calculation skipped for\n",
      "                  Trajectory /Volumes/Seagate_Backup/hysplit4/pysplitgen/test/testdec1100summer20071202041.0\n",
      "60\n",
      "Integration error calculation skipped for\n",
      "                  Trajectory /Volumes/Seagate_Backup/hysplit4/pysplitgen/test/testdec1100summer20071203041.0\n",
      "61\n",
      "Integration error calculation skipped for\n",
      "                  Trajectory /Volumes/Seagate_Backup/hysplit4/pysplitgen/test/testdec1100summer20071204041.0\n",
      "62\n",
      "Integration error calculation skipped for\n",
      "                  Trajectory /Volumes/Seagate_Backup/hysplit4/pysplitgen/test/testdec1100summer20071205041.0\n",
      "63\n",
      "Integration error calculation skipped for\n",
      "                  Trajectory /Volumes/Seagate_Backup/hysplit4/pysplitgen/test/testdec1100summer20071206041.0\n",
      "64\n",
      "Integration error calculation skipped for\n",
      "                  Trajectory /Volumes/Seagate_Backup/hysplit4/pysplitgen/test/testdec1100summer20071207041.0\n",
      "65\n",
      "66\n",
      "67\n",
      "68\n",
      "69\n",
      "70\n",
      "71\n",
      "72\n",
      "73\n",
      "74\n",
      "75\n",
      "76\n",
      "77\n",
      "78\n",
      "79\n",
      "80\n",
      "81\n",
      "82\n",
      "83\n",
      "84\n",
      "85\n",
      "86\n",
      "87\n",
      "88\n",
      "89\n"
     ]
    }
   ],
   "source": [
    "c=0\n",
    "for traj in test:\n",
    "    traj.calculate_integrationerr()\n",
    "    print(c)\n",
    "    c+=1\n",
    "    \n",
    "\n",
    "\n"
   ]
  },
  {
   "cell_type": "code",
   "execution_count": 45,
   "metadata": {},
   "outputs": [
    {
     "data": {
      "text/plain": [
       "0.010168053088224056"
      ]
     },
     "execution_count": 45,
     "metadata": {},
     "output_type": "execute_result"
    }
   ],
   "source": [
    "test[10].integration_error"
   ]
  },
  {
   "cell_type": "markdown",
   "metadata": {},
   "source": [
    "The problem with the code below (relative errors and the integration_error code) is that for the trajectories which do not calculate integration erros it still tries to loop through them. \n",
    "\n",
    "- solution would be to try and create a trajectory group which excludes the trajectories which do not fit in, and do not have trajectories integration errors.\n",
    "\n",
    "\n",
    "\n",
    "- how to do this???"
   ]
  },
  {
   "cell_type": "code",
   "execution_count": 38,
   "metadata": {},
   "outputs": [
    {
     "ename": "AttributeError",
     "evalue": "'Trajectory' object has no attribute 'integration_error'",
     "output_type": "error",
     "traceback": [
      "\u001b[0;31m---------------------------------------------------------------------------\u001b[0m",
      "\u001b[0;31mAttributeError\u001b[0m                            Traceback (most recent call last)",
      "\u001b[0;32m<ipython-input-38-fd04ff07b52f>\u001b[0m in \u001b[0;36m<module>\u001b[0;34m()\u001b[0m\n\u001b[1;32m      1\u001b[0m \u001b[0;32mfor\u001b[0m \u001b[0mtraj\u001b[0m \u001b[0;32min\u001b[0m \u001b[0mtest\u001b[0m\u001b[0;34m:\u001b[0m\u001b[0;34m\u001b[0m\u001b[0m\n\u001b[0;32m----> 2\u001b[0;31m     \u001b[0mrelative_errors\u001b[0m \u001b[0;34m=\u001b[0m \u001b[0;34m[\u001b[0m\u001b[0mtraj\u001b[0m\u001b[0;34m.\u001b[0m\u001b[0mintegration_error\u001b[0m \u001b[0;32mfor\u001b[0m \u001b[0mtraj\u001b[0m \u001b[0;32min\u001b[0m \u001b[0mtest\u001b[0m\u001b[0;34m]\u001b[0m\u001b[0;34m\u001b[0m\u001b[0m\n\u001b[0m\u001b[1;32m      3\u001b[0m     \u001b[0mcutoff\u001b[0m \u001b[0;34m=\u001b[0m \u001b[0mnp\u001b[0m\u001b[0;34m.\u001b[0m\u001b[0mmean\u001b[0m\u001b[0;34m(\u001b[0m\u001b[0mrelative_errors\u001b[0m\u001b[0;34m)\u001b[0m \u001b[0;34m+\u001b[0m \u001b[0;34m(\u001b[0m\u001b[0mnp\u001b[0m\u001b[0;34m.\u001b[0m\u001b[0mstd\u001b[0m\u001b[0;34m(\u001b[0m\u001b[0mrelative_errors\u001b[0m\u001b[0;34m)\u001b[0m \u001b[0;34m*\u001b[0m \u001b[0;36m2\u001b[0m\u001b[0;34m)\u001b[0m\u001b[0;34m\u001b[0m\u001b[0m\n\u001b[1;32m      4\u001b[0m \u001b[0;34m\u001b[0m\u001b[0m\n\u001b[1;32m      5\u001b[0m \u001b[0mprint\u001b[0m\u001b[0;34m(\u001b[0m\u001b[0;34m'Integration error upper limit: '\u001b[0m\u001b[0;34m,\u001b[0m \u001b[0mcutoff\u001b[0m\u001b[0;34m)\u001b[0m\u001b[0;34m\u001b[0m\u001b[0m\n",
      "\u001b[0;32m<ipython-input-38-fd04ff07b52f>\u001b[0m in \u001b[0;36m<listcomp>\u001b[0;34m(.0)\u001b[0m\n\u001b[1;32m      1\u001b[0m \u001b[0;32mfor\u001b[0m \u001b[0mtraj\u001b[0m \u001b[0;32min\u001b[0m \u001b[0mtest\u001b[0m\u001b[0;34m:\u001b[0m\u001b[0;34m\u001b[0m\u001b[0m\n\u001b[0;32m----> 2\u001b[0;31m     \u001b[0mrelative_errors\u001b[0m \u001b[0;34m=\u001b[0m \u001b[0;34m[\u001b[0m\u001b[0mtraj\u001b[0m\u001b[0;34m.\u001b[0m\u001b[0mintegration_error\u001b[0m \u001b[0;32mfor\u001b[0m \u001b[0mtraj\u001b[0m \u001b[0;32min\u001b[0m \u001b[0mtest\u001b[0m\u001b[0;34m]\u001b[0m\u001b[0;34m\u001b[0m\u001b[0m\n\u001b[0m\u001b[1;32m      3\u001b[0m     \u001b[0mcutoff\u001b[0m \u001b[0;34m=\u001b[0m \u001b[0mnp\u001b[0m\u001b[0;34m.\u001b[0m\u001b[0mmean\u001b[0m\u001b[0;34m(\u001b[0m\u001b[0mrelative_errors\u001b[0m\u001b[0;34m)\u001b[0m \u001b[0;34m+\u001b[0m \u001b[0;34m(\u001b[0m\u001b[0mnp\u001b[0m\u001b[0;34m.\u001b[0m\u001b[0mstd\u001b[0m\u001b[0;34m(\u001b[0m\u001b[0mrelative_errors\u001b[0m\u001b[0;34m)\u001b[0m \u001b[0;34m*\u001b[0m \u001b[0;36m2\u001b[0m\u001b[0;34m)\u001b[0m\u001b[0;34m\u001b[0m\u001b[0m\n\u001b[1;32m      4\u001b[0m \u001b[0;34m\u001b[0m\u001b[0m\n\u001b[1;32m      5\u001b[0m \u001b[0mprint\u001b[0m\u001b[0;34m(\u001b[0m\u001b[0;34m'Integration error upper limit: '\u001b[0m\u001b[0;34m,\u001b[0m \u001b[0mcutoff\u001b[0m\u001b[0;34m)\u001b[0m\u001b[0;34m\u001b[0m\u001b[0m\n",
      "\u001b[0;31mAttributeError\u001b[0m: 'Trajectory' object has no attribute 'integration_error'"
     ]
    }
   ],
   "source": [
    "relative_errors = [traj.integration_error for traj in test]\n",
    "cutoff = np.mean(relative_errors) + (np.std(relative_errors) * 2)\n",
    "\n",
    "print('Integration error upper limit: ', cutoff)"
   ]
  },
  {
   "cell_type": "code",
   "execution_count": 39,
   "metadata": {},
   "outputs": [
    {
     "ename": "NameError",
     "evalue": "name 'python' is not defined",
     "output_type": "error",
     "traceback": [
      "\u001b[0;31m---------------------------------------------------------------------------\u001b[0m",
      "\u001b[0;31mNameError\u001b[0m                                 Traceback (most recent call last)",
      "\u001b[0;32m<ipython-input-39-774a013123e7>\u001b[0m in \u001b[0;36m<module>\u001b[0;34m()\u001b[0m\n\u001b[0;32m----> 1\u001b[0;31m \u001b[0mpython\u001b[0m \u001b[0;34m-\u001b[0m\u001b[0mtt\u001b[0m\u001b[0;34m\u001b[0m\u001b[0m\n\u001b[0m",
      "\u001b[0;31mNameError\u001b[0m: name 'python' is not defined"
     ]
    }
   ],
   "source": []
  },
  {
   "cell_type": "code",
   "execution_count": null,
   "metadata": {},
   "outputs": [],
   "source": []
  }
 ],
 "metadata": {
  "kernelspec": {
   "display_name": "Python (pysplitenv36)",
   "language": "python",
   "name": "pysplitenv36"
  },
  "language_info": {
   "codemirror_mode": {
    "name": "ipython",
    "version": 3
   },
   "file_extension": ".py",
   "mimetype": "text/x-python",
   "name": "python",
   "nbconvert_exporter": "python",
   "pygments_lexer": "ipython3",
   "version": "3.6.5"
  }
 },
 "nbformat": 4,
 "nbformat_minor": 2
}
