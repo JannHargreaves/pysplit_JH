{
 "cells": [
  {
   "cell_type": "markdown",
   "metadata": {},
   "source": [
    "# Trajectory creation\n",
    "\n",
    "Christmas Island trajectory development for latitude of -10.43 and longitude of 105.7. \n",
    "\n",
    "Based on Jen Wurztel and Mcross; https://github.com/jwurtzel/IPWP_pysplit/blob/master/JBW_notebooks_v1/PySplit_Stage%202_Plotting.ipynb\n"
   ]
  },
  {
   "cell_type": "markdown",
   "metadata": {},
   "source": [
    "### Full trajectory generation\n",
    "\n",
    "- 2006 to 2017 \n",
    "- Jan to Dec\n",
    "- 4th hour\n",
    "- altitude of 1100\n",
    "\n",
    "#### Additionally the change in the altitude - testing 500, 1000, 1100, 1500\n",
    "\n",
    "- looking for the endpoint of the altitude, where is the rainfall sourced from?"
   ]
  },
  {
   "cell_type": "code",
   "execution_count": 1,
   "metadata": {},
   "outputs": [],
   "source": [
    "# STEP 0: Must be done before anything each time notebook is loaded\n",
    "# Import PySplit\n",
    "\n",
    "import pysplit as py\n",
    "import numpy as np\n",
    "import pickle as pickle\n",
    "from pprint import pprint\n",
    "import os"
   ]
  },
  {
   "cell_type": "code",
   "execution_count": 5,
   "metadata": {},
   "outputs": [],
   "source": [
    "# STEP 1: TRAJECTORY GENERATION (not yet tested on mac)\n",
    "# check out bulk_trajen_example.py\n",
    "\n",
    "#directory setup\n",
    "working_dir = r'/Volumes/Seagate_Backup/hysplit4/working'\n",
    "storage_dir = r'/Volumes/Seagate_Backup/hysplit4/pysplitgen/XIpress'\n",
    "meteo_dir = r'/Volumes/Seagate_Backup/HYSPLIT/ncep_monYYYY'\n",
    "# meteo_dir = r'C:\\hysplit4\\gdas'\n",
    "\n",
    "#file basename\n",
    "basename = 'XIpress'\n",
    "\n",
    "if not os.path.exists(storage_dir):\n",
    "    os.makedirs(storage_dir)\n",
    "    \n",
    "#Arguments\n",
    "years = [2007]\n",
    "#years=range(2006,2017)\n",
    "#months = [1]\n",
    "months=range(1,13)\n",
    "hours = [4]\n",
    "altitudes = [1450,1500,1550]\n",
    "location = (-10.25, 105.4)\n",
    "runtime = -168\n",
    "\n",
    "#Generate trajs\n",
    "py.generate_bulktraj(basename, working_dir, storage_dir, meteo_dir,\n",
    "                          years, months, hours, altitudes, location, runtime,\n",
    "                          monthslice=slice(0, 32, 1), meteo_bookends=([0], [0]), get_reverse=True, get_clipped=True, hysplit=\"/Volumes/Seagate_Backup/hysplit4/exec/hyts_std\")"
   ]
  },
  {
   "cell_type": "code",
   "execution_count": null,
   "metadata": {},
   "outputs": [],
   "source": [
    "XITEST=py.make_trajectorygroup((r'/Volumes/Seagate_Backup/hysplit4/pysplitgen/XITEST/*XI*'))\n"
   ]
  },
  {
   "cell_type": "code",
   "execution_count": null,
   "metadata": {},
   "outputs": [],
   "source": [
    "# integration error filtering# integr \n",
    "#first load reverse Traj\n",
    "for traj in XITEST:\n",
    "    traj.load_reversetraj()\n",
    "#then calculate integration error\n",
    "# Values computed when calling ``Trajectory.calculate_integrationerr()``:\n",
    "#     ``Trajectory.integration_error``, the relative error (%)\n",
    "#     ``Trajectory.integration_error_abs``, the absolute error (meters)\n",
    "\n"
   ]
  },
  {
   "cell_type": "code",
   "execution_count": null,
   "metadata": {},
   "outputs": [],
   "source": [
    "help (py.TrajectoryGroup)"
   ]
  },
  {
   "cell_type": "code",
   "execution_count": null,
   "metadata": {},
   "outputs": [],
   "source": [
    "# STEP 1: TRAJECTORY GENERATION \n",
    "# check out bulk_trajen_example.py\n",
    "\n",
    "#directory setup\n",
    "working_dir = r'/Volumes/Seagate_Backup/hysplit4/working'\n",
    "storage_dir = r'/Volumes/Seagate_Backup/hysplit4/pysplitgen'\n",
    "meteo_dir = r'/Volumes/Seagate_Backup/HYSPLIT/ncep_monYYYY'\n",
    "# meteo_dir = r'C:\\hysplit4\\gdas'\n",
    "\n",
    "#file basename\n",
    "basename = 'XI_long_test'\n",
    "\n",
    "#Arguments\n",
    "years = [2006, 2007]\n",
    "#years=range(2006,2017)\n",
    "#months = [1, 8]\n",
    "months=range(1,13)\n",
    "hours = [4]\n",
    "altitudes = [1500]\n",
    "location = (-10.25, 105.4)\n",
    "runtime = -168\n",
    "\n",
    "#Generate trajs\n",
    "py.generate_bulktraj(basename, working_dir, storage_dir, meteo_dir,\n",
    "                          years, months, hours, altitudes, location, runtime,\n",
    "                          monthslice=slice(0, 32, 1), get_reverse=True, get_clipped=True, hysplit=\"/Volumes/Seagate_Backup/hysplit4/exec/hyts_std\")"
   ]
  },
  {
   "cell_type": "code",
   "execution_count": null,
   "metadata": {},
   "outputs": [],
   "source": []
  },
  {
   "cell_type": "markdown",
   "metadata": {},
   "source": [
    "### Rainy day selection\n",
    "- attempt to restrict XI_long_Test to rainy days only\n",
    "- this is done to look at only this days in the analysis, and restrict to the moisture uptake days. This is what we want to analysis rather than all the trajectory movements\n"
   ]
  },
  {
   "cell_type": "code",
   "execution_count": null,
   "metadata": {},
   "outputs": [],
   "source": [
    "# selecting only the XI_long_test data set\n",
    "#trajgroup = py.make_trajectorygroup(r'/Volumes/Seagate_Backup/hysplit4/pysplitgen/*XI_long_test*')\n",
    "\n",
    "#for traj in trajgroup:\n",
    " #   traj.calculate_distance()\n",
    "  #  traj.calculate_vector()\n",
    "    \n",
    "    \n",
    "    # Initialise Trajectories and Create a Trajectory Group\n",
    "XItesttraj=[]\n",
    "XItesttraj = py.make_trajectorygroup(r'/Volumes/Seagate_Backup/hysplit4/pysplitgen/XI/*summer*')\n",
    "print('Total trajectories in group: ',XItesttraj.trajcount)"
   ]
  },
  {
   "cell_type": "code",
   "execution_count": null,
   "metadata": {},
   "outputs": [],
   "source": [
    "for traj in XItesttraj:\n",
    "    traj.load_reversetraj()"
   ]
  },
  {
   "cell_type": "code",
   "execution_count": null,
   "metadata": {},
   "outputs": [],
   "source": [
    "# Calculate distance and vectors\n",
    "for traj in XItesttraj:\n",
    "    traj.calculate_distance()\n",
    "    traj.calculate_vector()"
   ]
  },
  {
   "cell_type": "code",
   "execution_count": null,
   "metadata": {},
   "outputs": [],
   "source": []
  }
 ],
 "metadata": {
  "kernelspec": {
   "display_name": "Python(pysplitenv)",
   "language": "python",
   "name": "pysplitenv"
  },
  "language_info": {
   "codemirror_mode": {
    "name": "ipython",
    "version": 3
   },
   "file_extension": ".py",
   "mimetype": "text/x-python",
   "name": "python",
   "nbconvert_exporter": "python",
   "pygments_lexer": "ipython3",
   "version": "3.6.5"
  }
 },
 "nbformat": 4,
 "nbformat_minor": 2
}
