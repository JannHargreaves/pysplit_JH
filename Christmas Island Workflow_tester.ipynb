{
 "cells": [
  {
   "cell_type": "markdown",
   "metadata": {},
   "source": [
    "## Trajectory Calculations - workflow\n",
    "\n",
    "- first to calculate the trajectory, the reverse trajectory, and the clipped trajectories\n",
    "- then to calculate the integration error and filter out the bad trajectories\n",
    "- seperate the trajectories into folders which are rainy, dry and total, then seasonally?\n",
    "\n",
    "##### Mapping\n",
    "- map the different groups"
   ]
  },
  {
   "cell_type": "code",
   "execution_count": 1,
   "metadata": {},
   "outputs": [],
   "source": [
    "# STEP 0: Must be done before anything each time notebook is loaded\n",
    "# Import PySplit\n",
    "\n",
    "import pysplit as py\n",
    "import numpy as np\n",
    "import pickle as pickle\n",
    "from pprint import pprint\n",
    "import os\n",
    "from __future__ import print_function\n",
    "import matplotlib.pyplot as plt\n",
    "from mpl_toolkits.basemap import Basemap"
   ]
  },
  {
   "cell_type": "markdown",
   "metadata": {},
   "source": [
    "#### Trajectory generation\n",
    "\n",
    "- 1980 to 2017 is generated, group created for 2000-2017 at the moment (due to size of the analysis)\n",
    "- Jan to Dec\n",
    "- 4th hour\n",
    "- altitude of 1500 - best for Christmas Island, ends at 850hpa which is rainfall level. The endpoint altitude\n",
    "\n",
    "###### Below the years of 2015-2017 have been calculated as a start \n",
    "- nail out the clustering and then use the base code to create a climatology based on these years, and then look at the differences between the different seasons in Christmas Island \n",
    "\n",
    "\n"
   ]
  },
  {
   "cell_type": "code",
   "execution_count": 2,
   "metadata": {},
   "outputs": [],
   "source": [
    "# STEP 1: TRAJECTORY GENERATION (not yet tested on mac)\n",
    "# check out bulk_trajen_example.py\n",
    "\n",
    "#directory setup\n",
    "# working_dir = r'/Volumes/Seagate_Backup/hysplit4/working'\n",
    "# storage_dir = r'/Volumes/Seagate_Backup/hysplit4/pysgen/XI'\n",
    "# meteo_dir = r'/Volumes/Seagate_Backup/HYSPLIT/ncep_monYYYY'\n",
    "# # meteo_dir = r'C:\\hysplit4\\gdas'\n",
    "\n",
    "# #file basename\n",
    "# basename = 'XI20'\n",
    "\n",
    "# if not os.path.exists(storage_dir):\n",
    "#     os.makedirs(storage_dir)\n",
    "    \n",
    "# #Arguments\n",
    "# #years = [2007]\n",
    "# years=range(2000,2018)\n",
    "# #months = [1, 8]\n",
    "# months=range(1,13)\n",
    "# hours = [4]\n",
    "# altitudes = [1500]\n",
    "# location = (-10.45, 105.7)\n",
    "# runtime = -168\n",
    "\n",
    "# #Generate trajs\n",
    "# py.generate_bulktraj(basename, working_dir, storage_dir, meteo_dir,\n",
    "#                           years, months, hours, altitudes, location, runtime, meteoyr_2digits=False,\n",
    "#                           monthslice=slice(0, 32, 1), meteo_bookends=([0],[0]), get_reverse=True, get_clipped=True, hysplit=\"/Volumes/Seagate_Backup/hysplit4/exec/hyts_std\")"
   ]
  },
  {
   "cell_type": "markdown",
   "metadata": {},
   "source": [
    "#### Grouping the trajectories\n",
    "\n",
    "- determine the distance between the start and end of trajectories, the vector \n",
    "- first seperated by the names - the summer/winter etv values\n"
   ]
  },
  {
   "cell_type": "code",
   "execution_count": 4,
   "metadata": {},
   "outputs": [
    {
     "name": "stderr",
     "output_type": "stream",
     "text": [
      "/Users/jess/anaconda3/envs/pysplitenv/lib/python3.6/site-packages/pysplit/hypath.py:136: RuntimeWarning: invalid value encountered in arccos\n",
      "  np.cos(lon[:-1] - lon[1:])) * 6371) * 1000\n"
     ]
    }
   ],
   "source": [
    "# selecting only the XI_20 data set - this is from 2000-2017\n",
    "trajgroup = py.make_trajectorygroup(r'/Volumes/Seagate_Backup/hysplit4/pygen/XI2/*20*')\n",
    "\n",
    "for traj in trajgroup:\n",
    "    traj.calculate_distance()\n",
    "    traj.calculate_vector()\n",
    "    traj.calculate_rh()\n",
    "    traj.calculate_sh()\n",
    "    \n",
    "    "
   ]
  },
  {
   "cell_type": "code",
   "execution_count": 5,
   "metadata": {},
   "outputs": [
    {
     "name": "stdout",
     "output_type": "stream",
     "text": [
      "Total trajectories in group:  6575\n"
     ]
    }
   ],
   "source": [
    "#vars(trajgroup[3])\n",
    "print('Total trajectories in group: ',trajgroup.trajcount)"
   ]
  },
  {
   "cell_type": "code",
   "execution_count": null,
   "metadata": {},
   "outputs": [],
   "source": [
    "# #trajgroup.make_infile(r'/Volumes/Seagate_Backup/hysplit4/cluster/working')\n",
    "# vars(trajgroup)\n",
    "\n",
    "# bad = []\n",
    "# for traj in trajgroup:\n",
    "#         bad.append(traj.trajid)\n",
    "\n",
    "# print('Expectation: ', trajgroup.trajcount, 'trajectories -', len(bad),\n",
    "#       'bad trajectories =', trajgroup.trajcount-len(bad), 'trajectories')\n",
    "\n",
    "\n",
    "# trajgroup.pop(trajid=bad)\n",
    "# print('Result: ', trajgroup.trajcount, 'trajectories')\n",
    "\n"
   ]
  },
  {
   "cell_type": "code",
   "execution_count": null,
   "metadata": {},
   "outputs": [],
   "source": [
    "#vars(trajgroup[3])"
   ]
  },
  {
   "cell_type": "markdown",
   "metadata": {},
   "source": [
    "#### Calculating the integration error\n",
    "\n",
    "- integration error calculated for the entire period.\n",
    "\n",
    "\n",
    "\n",
    "- first the reversetraj has to be loaded, this is because the integration error is the physical and numerical error. This is calculated by the distance between the original trajectory and the reverse trajectory start and end points. \n",
    "\n",
    "- then the integration error can be calculated by traj.calculate_integrationerr()\n",
    "\n",
    "    - this also should inclue te traj.integration_error (the relative error%) and traj.integration_error_abs (the absolute error in meters)\n",
    "    \n",
    "    \n",
    "   "
   ]
  },
  {
   "cell_type": "code",
   "execution_count": null,
   "metadata": {},
   "outputs": [],
   "source": [
    "#Step 1: integration error filtering integr \n",
    "#first load reverse Traj\n",
    "for traj in trajgroup:\n",
    "    traj.load_reversetraj()\n",
    "#then calculate integration error\n",
    "# Values computed when calling ``Trajectory.calculate_integrationerr()``:\n",
    "#     ``Trajectory.integration_error``, the relative error (%)\n",
    "#     ``Trajectory.integration_error_abs``, the absolute error (meters)\n"
   ]
  },
  {
   "cell_type": "code",
   "execution_count": null,
   "metadata": {},
   "outputs": [],
   "source": [
    "#Step 2: calculate the integration error and determine if there is any problems in the integration calculation \n",
    "#any problems would be to do with the reverse trajectory and any issues with the generation of this. \n",
    "\n",
    "c=0\n",
    "for traj in trajgroup:\n",
    "    traj.calculate_integrationerr()\n",
    "    print(c)\n",
    "    c+=1"
   ]
  },
  {
   "cell_type": "code",
   "execution_count": null,
   "metadata": {},
   "outputs": [],
   "source": [
    "#done to identify the the bad reverse trajectories\n",
    "badreverse=[] #identigy whihc of the trajectories are bad and then put them into a badreverse list of the trajectory.trajid.\n",
    "# this is done through .append below\n",
    "\n",
    "for traj in trajgroup:\n",
    "    try: \n",
    "        print(traj.integration_error)\n",
    "    except:\n",
    "        print(traj.trajid)\n",
    "        badreverse.append(traj.trajid)\n",
    "        \n",
    "#.pop is used to exclude a number of trajectories from the list, based on a list created previously., i.e the badreverse\n",
    "#list of trajectories can be used. \n",
    "\n",
    "trajgroup.pop(trajid=badreverse) \n",
    "print('Result: ', trajgroup.trajcount, 'trajectories')"
   ]
  },
  {
   "cell_type": "code",
   "execution_count": null,
   "metadata": {},
   "outputs": [],
   "source": [
    "#The cut-off is identified in order to identify trajectories which are outside of the acceptable range, \n",
    "#these can then be taken out of the relationships through the append functions below\n",
    "relative_errors = [traj.integration_error for traj in trajgroup]\n",
    "\n",
    "#cutoff = np.mean(relative_errors) + (np.std(relative_errors) * 2)\n",
    "relative_errors_average=0.183888357; #calculated in excel because np.mean was producing inf and nan\n",
    "relative_errors_std=1.303486797;\n",
    "cutoff = relative_errors_average + (relative_errors_std * 2)\n",
    "\n",
    "#print (np.average(relative_errors))\n",
    "#print (np.std(relative_errors))\n",
    "print('Integration error upper limit: ', cutoff)\n",
    "\n"
   ]
  },
  {
   "cell_type": "code",
   "execution_count": null,
   "metadata": {},
   "outputs": [],
   "source": [
    "bad = []\n",
    "for traj in trajgroup: #loop to exclude the bad trajectories in the groups - based on the integration error and cutoff of 2 standard deviations\n",
    "    if traj.integration_error > cutoff:\n",
    "        bad.append(traj.trajid)\n",
    "\n",
    "print('Expectation: ', trajgroup.trajcount, 'trajectories -', len(bad),\n",
    "      'bad trajectories =', trajgroup.trajcount-len(bad), 'trajectories')\n",
    "\n",
    "\n",
    "# trajgroup.pop(trajid=bad)\n",
    "# print('Result: ', trajgroup.trajcount, 'trajectories')\n",
    "\n"
   ]
  },
  {
   "cell_type": "markdown",
   "metadata": {},
   "source": [
    "### Create the rainy, dry and total groups - also the Moisture uptakes\n",
    "\n",
    "- also read out the infiles which will be used to conduct the clustering analysis in hypslit"
   ]
  },
  {
   "cell_type": "code",
   "execution_count": null,
   "metadata": {},
   "outputs": [],
   "source": [
    "# # moisture uptake identification of the moisture source regions for the rainy day trajectories\n",
    "# moisture = []\n",
    "# for traj in trajgroup:\n",
    "#     traj.moisture_uptake(precipitation=-0.2,evaporation=0.2,interval=3)\n",
    "#     moisture.append(traj)\n",
    "    "
   ]
  },
  {
   "cell_type": "code",
   "execution_count": null,
   "metadata": {},
   "outputs": [],
   "source": [
    "#appending the rainy day trajectories\n",
    "rainylist = []\n",
    "\n",
    "for traj in trajgroup:\n",
    "    traj.set_rainstatus()\n",
    "    if traj.rainy:\n",
    "        rainylist.append(traj)\n",
    "        \n",
    "rainy_trajgroup = py.TrajectoryGroup(rainylist)\n",
    "dry_trajgroup = trajgroup - rainy_trajgroup\n",
    "print('Total trajectories in total group: ',trajgroup.trajcount)\n",
    "print('Total trajectories in dry group: ',dry_trajgroup.trajcount)\n",
    "print('Total trajectories in rainy group: ',rainy_trajgroup.trajcount)\n"
   ]
  },
  {
   "cell_type": "code",
   "execution_count": null,
   "metadata": {},
   "outputs": [],
   "source": [
    "# saving out the list of rainy trajectories \n",
    "#rainy_trajgroup.make_infile(r'/Volumes/Seagate_Backup/hysplit4/cluster/working')\n",
    "#dry_trajgroup.make_infile(r'/Volumes/Seagate_Backup/hysplit4/cluster/working')\n",
    "#trajgroup.make_infile(r'/Volumes/Seagate_Backup/hysplit4/cluster/working')"
   ]
  },
  {
   "cell_type": "markdown",
   "metadata": {},
   "source": [
    "## Mapping examples\n",
    "\n",
    "- https://github.com/mscross/pysplit/blob/master/docs/examples/basic_plotting_example.py\n",
    "- https://github.com/mscross/pysplit/blob/master/docs/examples/basic_scatterplotting.py\n",
    "\n",
    "\n",
    "- testing a number of different plots and determine what is the best representation for this analysis "
   ]
  },
  {
   "cell_type": "code",
   "execution_count": null,
   "metadata": {},
   "outputs": [],
   "source": [
    "import matplotlib.pyplot as plt"
   ]
  },
  {
   "cell_type": "markdown",
   "metadata": {},
   "source": [
    "## Clustering of the different trajectory groups \n",
    "\n",
    "- taken from hysplit_clustering from mscross \n",
    "- done for the clustering developed from the rainy_day and the Dry_days"
   ]
  },
  {
   "cell_type": "code",
   "execution_count": null,
   "metadata": {},
   "outputs": [],
   "source": [
    "traj_assignment = r'/Volumes/Seagate_Backup/hysplit4/cluster/archive/Rainy Cluster/CLUSLIST_4'\n",
    "clusterpath_dir = r'/Volumes/Seagate_Backup/hysplit4/cluster/archive/Rainy Cluster'\n",
    "\n",
    "clusgroup = py.spawn_clusters(rainy_trajgroup, traj_assignment, clusterpath_dir)"
   ]
  },
  {
   "cell_type": "code",
   "execution_count": null,
   "metadata": {},
   "outputs": [],
   "source": [
    "colors = np.linspace(0, 0.95, 7)\n",
    "\n",
    "mapcorners =  [50, -40, 170, 10]\n",
    "standard_pm = None\n",
    "mapdesign0 = py.MapDesign(mapcorners, standard_pm, projection='cyl',\n",
    "                 mapcolor='light', maplabels=None, area_threshold=10000,\n",
    "                 resolution='c', zborder=14,\n",
    "                 zmapbound=10, zlatlon=11, lat_labels=['left'],\n",
    "                 lon_labels=['top'], latlon_labelspacing=(10, 20),\n",
    "                 latlon_fs=20, latlon_spacing=(10, 20), drawstates=False,\n",
    "                 drawoutlines=True, draw_latlons=True, land_alpha=0.85)\n",
    "mapdesign1 = py.MapDesign(mapcorners, standard_pm, lon_labels=['bottom'])\n",
    "\n",
    "fig, (ax0, ax1) = plt.subplots(nrows=2, figsize=(20,20))\n",
    "map0 = mapdesign0.make_basemap(ax=ax0)\n",
    "map1 = mapdesign1.make_basemap(ax=ax1)\n",
    "\n",
    "# Text on maps\n",
    "x, y = map0(-135, 25)\n",
    "font_params = {'horizontalalignment' : 'center',\n",
    "               'verticalalignment' : 'center',\n",
    "               'fontsize' : 40,\n",
    "               'weight' : 'bold'}\n",
    "\n",
    "ax0.text(x, y, 'Clusters', **font_params)\n",
    "ax1.text(x, y, 'Trajectories', **font_params)\n",
    "\n",
    "for clus, color in zip(clusgroup, colors):\n",
    "    params = {'zorder' : 24,\n",
    "    \t\t  'latlon' : True,\n",
    "    \t\t  'c' : plt.cm.magma(color)}\n",
    "\n",
    "    map0.plot(*clus.path.xy, lw=(clus.trajcount/clusgroup.trajcount)*50,\n",
    "    \t\t  **params)\n",
    "\n",
    "    for traj in clus:\n",
    "        map1.plot(*traj.path.xy, lw=1.5, **params)\n",
    "        \n",
    "fig.subplots_adjust(hspace=0.1)"
   ]
  },
  {
   "cell_type": "code",
   "execution_count": null,
   "metadata": {},
   "outputs": [],
   "source": [
    "mapcorners =  [50, -40, 170, 10]\n",
    "standard_pm = None\n",
    "\n",
    "bmap_params = py.MapDesign(mapcorners, standard_pm, projection='cyl',\n",
    "                 mapcolor='light', maplabels=None, area_threshold=10000,\n",
    "                 resolution='c', zborder=14,\n",
    "                lat_labels=['left'],\n",
    "                 lon_labels=['top'], latlon_labelspacing=(10, 20),\n",
    "                 latlon_fs=20, latlon_spacing=(10, 20), drawstates=False,\n",
    "                 drawoutlines=True, draw_latlons=True)\n",
    "bmap = bmap_params.make_basemap()\n",
    "for traj in clusgroup[::]:\n",
    "    bmap.plot(*traj.path.xy, latlon=True, zorder=20)"
   ]
  },
  {
   "cell_type": "code",
   "execution_count": null,
   "metadata": {},
   "outputs": [],
   "source": []
  }
 ],
 "metadata": {
  "kernelspec": {
   "display_name": "Python(pysplitenv)",
   "language": "python",
   "name": "pysplitenv"
  },
  "language_info": {
   "codemirror_mode": {
    "name": "ipython",
    "version": 3
   },
   "file_extension": ".py",
   "mimetype": "text/x-python",
   "name": "python",
   "nbconvert_exporter": "python",
   "pygments_lexer": "ipython3",
   "version": "3.6.5"
  }
 },
 "nbformat": 4,
 "nbformat_minor": 2
}
