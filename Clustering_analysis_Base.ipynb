{
 "cells": [
  {
   "cell_type": "markdown",
   "metadata": {},
   "source": [
    "# Clustering analysis"
   ]
  },
  {
   "cell_type": "code",
   "execution_count": 1,
   "metadata": {},
   "outputs": [],
   "source": [
    "from __future__ import division\n",
    "\n",
    "import numpy as np\n",
    "import matplotlib.pyplot as plt\n",
    "import pysplit as py"
   ]
  },
  {
   "cell_type": "code",
   "execution_count": 3,
   "metadata": {},
   "outputs": [
    {
     "name": "stdout",
     "output_type": "stream",
     "text": [
      "Total trajectories in group:  993\n"
     ]
    }
   ],
   "source": [
    "trajgroup = py.make_trajectorygroup(r'/Volumes/Seagate_Backup_Plus_Drive/hysplit4/pysplitgen/XI/*summer*')\n",
    "print('Total trajectories in group: ',trajgroup.trajcount)"
   ]
  },
  {
   "cell_type": "code",
   "execution_count": 4,
   "metadata": {},
   "outputs": [],
   "source": [
    "#making a file which the clusters will be saved\n",
    "trajgroup.make_infile(r'/Volumes/Seagate_Backup_Plus_Drive/hysplit4/cluster/working')"
   ]
  },
  {
   "cell_type": "code",
   "execution_count": null,
   "metadata": {},
   "outputs": [],
   "source": [
    "traj_assignment = r'/Volumes/Seagate_Backup_Plus_Drive/hysplit4/cluster/working/CLUSLIST_4/'\n",
    "clusterpath_dir = r'/Volumes/Seagate_Backup_Plus_Drive/hysplit4/cluster/working/pysplit'\n",
    "\n",
    "clusgroup = pysplit.spawn_clusters(trajgroup, traj_assignment, clusterpath_dir)"
   ]
  }
 ],
 "metadata": {
  "kernelspec": {
   "display_name": "Python(pysplitenv)",
   "language": "python",
   "name": "pysplitenv"
  },
  "language_info": {
   "codemirror_mode": {
    "name": "ipython",
    "version": 3
   },
   "file_extension": ".py",
   "mimetype": "text/x-python",
   "name": "python",
   "nbconvert_exporter": "python",
   "pygments_lexer": "ipython3",
   "version": "3.6.5"
  }
 },
 "nbformat": 4,
 "nbformat_minor": 2
}
