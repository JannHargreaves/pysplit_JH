{
 "cells": [
  {
   "cell_type": "markdown",
   "metadata": {},
   "source": [
    "# Plotting trajectory maps based on trajectory development above"
   ]
  },
  {
   "cell_type": "code",
   "execution_count": 5,
   "metadata": {},
   "outputs": [],
   "source": [
    "import pysplit as py\n",
    "import numpy as np\n",
    "import pickle as pickle\n",
    "from pprint import pprint\n",
    "import os \n",
    "from __future__ import print_function\n",
    "from mpl_toolkits.basemap import Basemap\n",
    "import matplotlib.pyplot as plt"
   ]
  },
  {
   "cell_type": "code",
   "execution_count": 7,
   "metadata": {},
   "outputs": [
    {
     "name": "stdout",
     "output_type": "stream",
     "text": [
      "Total trajectories in group:  993\n"
     ]
    }
   ],
   "source": [
    "trajgroup = py.make_trajectorygroup(r'/Volumes/Seagate_Backup_Plus_Drive/hysplit4/pysplitgen/XI/*summer*')\n",
    "print('Total trajectories in group: ',trajgroup.trajcount)"
   ]
  },
  {
   "cell_type": "code",
   "execution_count": null,
   "metadata": {},
   "outputs": [],
   "source": [
    "fig = plt.figure()\n",
    "\n",
    "bmap = py.mapdesigner.Basemap(llcrnrlon = 60,\n",
    "llcrnrlat = -50,\n",
    "urcrnrlon = 150,\n",
    "urcrnrlat = 10,\n",
    "projection = 'cyl')\n",
    "\n",
    "bmap.drawmeridians(np.arange(int(60),int(160),10),labels=[0,0,0,1],linewidth=0.5)\n",
    "bmap.drawparallels(np.arange(int(-60),int(60),5),labels=[1,0,0,0],linewidth=0.5)\n",
    "bmap.drawstates()\n",
    "bmap.drawcoastlines()\n",
    "bmap.drawcountries()\n",
    "\n",
    "bmap.drawmapboundary(color='k',linewidth=1.0,fill_color='0.90')\n",
    "bmap.fillcontinents(color='0.80', lake_color=None)\n",
    "\n",
    "for traj in trajgroup:\n",
    "    bmap.plot(*traj.path.xy, c='blue', latlon=True, zorder=20)\n",
    "\n",
    "plt.show()"
   ]
  }
 ],
 "metadata": {
  "kernelspec": {
   "display_name": "Python(pysplitenv)",
   "language": "python",
   "name": "pysplitenv"
  },
  "language_info": {
   "codemirror_mode": {
    "name": "ipython",
    "version": 3
   },
   "file_extension": ".py",
   "mimetype": "text/x-python",
   "name": "python",
   "nbconvert_exporter": "python",
   "pygments_lexer": "ipython3",
   "version": "3.6.5"
  }
 },
 "nbformat": 4,
 "nbformat_minor": 2
}
